{
 "cells": [
  {
   "cell_type": "code",
   "execution_count": null,
   "id": "8ef17c70",
   "metadata": {},
   "outputs": [],
   "source": [
    "import matplotlib.pyplot as plt\n",
    "import numpy as np\n",
    "from scipy import stats\n",
    "import pandas as pd\n",
    "import plotly.express as px\n",
    "from datetime import datetime\n",
    "from datetime import timedelta\n",
    "from matplotlib.backends.backend_pdf import PdfPages\n",
    "from tqdm import tqdm\n",
    "import logging\n",
    "import plotly.figure_factory as ff\n",
    "import os\n",
    "\n",
    "\n",
    "import seaborn as sns\n",
    "%matplotlib inline\n",
    "\n",
    "import plotly.express as px\n",
    "import plotly.graph_objs as go\n",
    "import plotly\n",
    "import plotly.offline as pyo\n",
    "import warnings\n",
    "warnings.filterwarnings(\"ignore\")\n",
    "\n",
    "pd.set_option('display.max_rows', None)\n",
    "pd.set_option('display.max_columns', None)\n",
    "\n",
    "import plotly.offline as pyo\n",
    "import plotly.graph_objs as go\n",
    "from bokeh.plotting import *\n",
    "from bokeh.models import *\n",
    "from bokeh.plotting import figure, show\n",
    "from bokeh.models import LinearAxis, Range1d, Legend\n",
    "import bokeh.io\n",
    "bokeh.io.reset_output()\n",
    "# bokeh.io.output_notebook()\n",
    "\n",
    "pd.set_option('display.float_format', lambda x: f'{x:.3f}')"
   ]
  },
  {
   "cell_type": "markdown",
   "id": "347a3d7b",
   "metadata": {},
   "source": [
    "# Importing the Keras libraries and packages"
   ]
  },
  {
   "cell_type": "code",
   "execution_count": null,
   "id": "6f280ff4",
   "metadata": {},
   "outputs": [],
   "source": [
    "import tensorflow as tf\n",
    "from keras.preprocessing.image import ImageDataGenerator"
   ]
  },
  {
   "cell_type": "code",
   "execution_count": null,
   "id": "7c78ea07",
   "metadata": {},
   "outputs": [],
   "source": [
    "print(tf.__version__)"
   ]
  },
  {
   "cell_type": "markdown",
   "id": "0442cd04",
   "metadata": {},
   "source": [
    "# Data Preprocessing"
   ]
  },
  {
   "cell_type": "markdown",
   "id": "cc4eb178",
   "metadata": {},
   "source": [
    "## Preprocessing training set"
   ]
  },
  {
   "cell_type": "code",
   "execution_count": null,
   "id": "7360ba8f",
   "metadata": {
    "scrolled": true
   },
   "outputs": [],
   "source": [
    "## Image augmentation\n",
    "train_datagen = ImageDataGenerator(rescale=1./255,shear_range=0.2,zoom_range=0.2,horizontal_flip=True)\n",
    "training_set = train_datagen.flow_from_directory(\n",
    "                'dataset/training_set',\n",
    "                target_size=[64,64],\n",
    "                batch_size=32,\n",
    "                class_mode='binary')"
   ]
  },
  {
   "cell_type": "markdown",
   "id": "0e4e9e9d",
   "metadata": {},
   "source": [
    "## Preprocessing test set"
   ]
  },
  {
   "cell_type": "code",
   "execution_count": null,
   "id": "0860a073",
   "metadata": {},
   "outputs": [],
   "source": [
    "test_datagen = ImageDataGenerator(rescale=1./255)\n",
    "test_set = train_datagen.flow_from_directory('dataset/test_set',target_size=[64,64],batch_size=32,\n",
    "                class_mode='binary')"
   ]
  },
  {
   "cell_type": "markdown",
   "id": "0cfe05f4",
   "metadata": {},
   "source": [
    "# Building the CNN"
   ]
  },
  {
   "cell_type": "code",
   "execution_count": null,
   "id": "90bc822b",
   "metadata": {},
   "outputs": [],
   "source": [
    "#convolution\n",
    "cnn = tf.keras.models.Sequential()\n",
    "cnn.add(tf.keras.layers.Conv2D(filters=32, kernel_size=3,activation='relu',input_shape=[64,64,3]))\n",
    "\n",
    "#max_pooling\n",
    "cnn.add(tf.keras.layers.MaxPool2D(pool_size=2,strides=2))\n",
    "\n",
    "# 2nd Convolutional layer\n",
    "cnn.add(tf.keras.layers.Conv2D(filters=32,kernel_size=3,activation='relu',))\n",
    "cnn.add(tf.keras.layers.MaxPool2D(pool_size=2,\n",
    "                                 strides=2))\n",
    "\n",
    "#Flattening\n",
    "cnn.add(tf.keras.layers.Flatten())\n",
    "\n",
    "#Full connection\n",
    "cnn.add(tf.keras.layers.Dense(units=128,activation='relu'))\n",
    "\n",
    "#output layer\n",
    "cnn.add(tf.keras.layers.Dense(units=1,activation='sigmoid'))"
   ]
  },
  {
   "cell_type": "markdown",
   "id": "02aa15d0",
   "metadata": {},
   "source": [
    "# Training the CNN"
   ]
  },
  {
   "cell_type": "markdown",
   "id": "c4dadfe3",
   "metadata": {},
   "source": [
    "## compiling the cnn"
   ]
  },
  {
   "cell_type": "code",
   "execution_count": null,
   "id": "3c14569e",
   "metadata": {},
   "outputs": [],
   "source": [
    "cnn.compile(optimizer='adam',loss='binary_crossentropy', metrics=['accuracy'])"
   ]
  },
  {
   "cell_type": "markdown",
   "id": "ea57c46d",
   "metadata": {},
   "source": [
    "## Train the model and evaluating it on the test set"
   ]
  },
  {
   "cell_type": "code",
   "execution_count": null,
   "id": "26da7dc1",
   "metadata": {},
   "outputs": [],
   "source": [
    "cnn.fit(x=training_set, validation_data=test_set,epochs=1)"
   ]
  },
  {
   "cell_type": "markdown",
   "id": "d7d67b53",
   "metadata": {},
   "source": [
    "# Making a single prediction"
   ]
  },
  {
   "cell_type": "code",
   "execution_count": null,
   "id": "bedc67cb",
   "metadata": {},
   "outputs": [],
   "source": [
    "from keras.utils import load_img, img_to_array\n",
    "img = load_img('dataset/test_set/cats/cat.4047.jpg',\n",
    "              target_size=(64,64))\n",
    "\n",
    "# test_image = image.load_img('/dataset/test_set/cats/cat.4032.jpg',target_size=(64,64))\n",
    "test_image = image.img_to_array(img)\n",
    "test_image = np.expand_dims(test_image,\n",
    "                           axis=0)\n",
    "result = cnn.predict(test_image)\n",
    "training_set.class_indices\n",
    "if result[0][0] == 1:\n",
    "    prediction = 'dog'\n",
    "else:\n",
    "    prediction = 'cat'    "
   ]
  },
  {
   "cell_type": "code",
   "execution_count": null,
   "id": "8fe4fb55",
   "metadata": {},
   "outputs": [],
   "source": [
    "print(prediction)"
   ]
  },
  {
   "cell_type": "code",
   "execution_count": null,
   "id": "29d81c3c",
   "metadata": {},
   "outputs": [],
   "source": []
  },
  {
   "cell_type": "code",
   "execution_count": null,
   "id": "1abdacf6",
   "metadata": {},
   "outputs": [],
   "source": []
  },
  {
   "cell_type": "code",
   "execution_count": null,
   "id": "40a72183",
   "metadata": {},
   "outputs": [],
   "source": []
  },
  {
   "cell_type": "code",
   "execution_count": null,
   "id": "eea92279",
   "metadata": {},
   "outputs": [],
   "source": []
  },
  {
   "cell_type": "code",
   "execution_count": null,
   "id": "4b6cfc1d",
   "metadata": {},
   "outputs": [],
   "source": []
  }
 ],
 "metadata": {
  "kernelspec": {
   "display_name": "Python 3 (ipykernel)",
   "language": "python",
   "name": "python3"
  },
  "language_info": {
   "codemirror_mode": {
    "name": "ipython",
    "version": 3
   },
   "file_extension": ".py",
   "mimetype": "text/x-python",
   "name": "python",
   "nbconvert_exporter": "python",
   "pygments_lexer": "ipython3",
   "version": "3.9.18"
  },
  "toc": {
   "base_numbering": 1,
   "nav_menu": {},
   "number_sections": true,
   "sideBar": true,
   "skip_h1_title": false,
   "title_cell": "Table of Contents",
   "title_sidebar": "Contents",
   "toc_cell": false,
   "toc_position": {},
   "toc_section_display": true,
   "toc_window_display": false
  }
 },
 "nbformat": 4,
 "nbformat_minor": 5
}
